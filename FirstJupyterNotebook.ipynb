{
 "cells": [
  {
   "cell_type": "code",
   "execution_count": 37,
   "id": "a38b0bf5",
   "metadata": {},
   "outputs": [
    {
     "name": "stdout",
     "output_type": "stream",
     "text": [
      "Hello world from Jupyter\n"
     ]
    }
   ],
   "source": [
    "print(\"Hello world from Jupyter\")"
   ]
  },
  {
   "cell_type": "code",
   "execution_count": 38,
   "id": "06aad472",
   "metadata": {},
   "outputs": [],
   "source": [
    "import numpy as np"
   ]
  },
  {
   "cell_type": "code",
   "execution_count": 39,
   "id": "46591eb9",
   "metadata": {},
   "outputs": [],
   "source": [
    "#time.sleep caused the program to sleep for four seconds\n",
    "import time\n",
    "time.sleep(4)"
   ]
  },
  {
   "cell_type": "code",
   "execution_count": 40,
   "id": "e585f15f",
   "metadata": {},
   "outputs": [],
   "source": [
    "#\"*\" means code is running"
   ]
  },
  {
   "cell_type": "code",
   "execution_count": 41,
   "id": "8c9b795f",
   "metadata": {},
   "outputs": [],
   "source": [
    "#runs a function, then formats it as specifiied. Will not run in this line bause it is being created in this line\n",
    "def say_hello(name):\n",
    "    return 'Hello, {}' .format (name)"
   ]
  },
  {
   "cell_type": "code",
   "execution_count": 42,
   "id": "00bd1fa3",
   "metadata": {},
   "outputs": [
    {
     "data": {
      "text/plain": [
       "'Hello, Santi'"
      ]
     },
     "execution_count": 42,
     "metadata": {},
     "output_type": "execute_result"
    }
   ],
   "source": [
    "say_hello('Santi')"
   ]
  },
  {
   "cell_type": "code",
   "execution_count": 43,
   "id": "3e1635b5",
   "metadata": {},
   "outputs": [],
   "source": [
    "num1 = 10 \n",
    "num2 = 7"
   ]
  },
  {
   "cell_type": "code",
   "execution_count": 44,
   "id": "f1181566",
   "metadata": {},
   "outputs": [
    {
     "name": "stdout",
     "output_type": "stream",
     "text": [
      "3\n"
     ]
    }
   ],
   "source": [
    "x = num1 - num2\n",
    "print(x)"
   ]
  },
  {
   "cell_type": "code",
   "execution_count": 45,
   "id": "325f3dce",
   "metadata": {},
   "outputs": [],
   "source": [
    "#There are three different types of cells: Code (Y), Markdown (M), Raw (R)"
   ]
  },
  {
   "cell_type": "markdown",
   "id": "09655a28",
   "metadata": {},
   "source": [
    "# This is heading 1\n",
    "## This is heading 2\n",
    "**This is bold text** __this is bold text too__\n",
    "*This is italic* _this is also italic_\n",
    "\n",
    "You can also create lists:\n",
    "* Item 1 in bullets\n",
    "* Item 2 in bullets\n",
    "\n",
    "You can also create numbered lists\n",
    "1. Item 1 in a numeric list\n",
    "2. Item 2 in a numeric list\n",
    "\n",
    "[link to website](https://my.tlu.edu/ICS/Academics/BUSI/BUSI_471/2122_SP-BUSI_471-01___C/)"
   ]
  },
  {
   "cell_type": "code",
   "execution_count": 46,
   "id": "5d6995e8",
   "metadata": {},
   "outputs": [],
   "source": [
    "import numpy as np\n",
    "def square(x):\n",
    "    return x*x"
   ]
  },
  {
   "cell_type": "code",
   "execution_count": 47,
   "id": "d28decec",
   "metadata": {
    "scrolled": true
   },
   "outputs": [
    {
     "name": "stdout",
     "output_type": "stream",
     "text": [
      "8 squared is: 64\n"
     ]
    }
   ],
   "source": [
    "x = np.random.randint(1,10)\n",
    "y = square(x)\n",
    "print('%d squared is: %d' % (x,y))"
   ]
  },
  {
   "cell_type": "code",
   "execution_count": null,
   "id": "6f88ee7b",
   "metadata": {},
   "outputs": [],
   "source": [
    "# xml file is used to transfer data and read it into a notebook and\n",
    "#html is markup language"
   ]
  }
 ],
 "metadata": {
  "kernelspec": {
   "display_name": "Python 3 (ipykernel)",
   "language": "python",
   "name": "python3"
  },
  "language_info": {
   "codemirror_mode": {
    "name": "ipython",
    "version": 3
   },
   "file_extension": ".py",
   "mimetype": "text/x-python",
   "name": "python",
   "nbconvert_exporter": "python",
   "pygments_lexer": "ipython3",
   "version": "3.9.7"
  }
 },
 "nbformat": 4,
 "nbformat_minor": 5
}
